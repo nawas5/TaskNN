{
  "nbformat": 4,
  "nbformat_minor": 0,
  "metadata": {
    "colab": {
      "name": "ИИ_24.ipynb",
      "provenance": [],
      "collapsed_sections": []
    },
    "kernelspec": {
      "name": "python3",
      "display_name": "Python 3"
    },
    "accelerator": "GPU"
  },
  "cells": [
    {
      "cell_type": "markdown",
      "metadata": {
        "id": "JTQjID64IGZk"
      },
      "source": [
        "Вам даны синтетические данные вида (x,f(x)), где x — вектор из 5 действительных чисел, а f(x) — действительное число.\n",
        "\n",
        "Вам нужно решить задачу регрессии, обучившись на тренировочном датасете, и предсказать значение f(x) для всех x из тестового датасета.\n",
        "\n",
        "Тренировочный датасет состоит из 80000 строк id,xid,f(xid) и заголовка. \n",
        "\n",
        "Ссылка на данные в формате csv: https://yadi.sk/d/_zDavEQwLTq-_tQ\n",
        "\n",
        "Тестовый датасет состоит из 20000 строк id,xid и заголовка. \n",
        "\n",
        "Ссылка на данные в формате csv: https://yadi.sk/d/FVrLHez5_8UHxw\n",
        "\n",
        "Отправленный файл должен состоять из 20000 строк вида id,fpredict(xid) и заголовка id,y. \n",
        "\n",
        "Ссылка на пример: https://yadi.sk/d/6-_Wz9YjJr561Gw\n",
        "\n",
        "Метрика качества MAE: ошибка вычисляется по формуле S=∑|fpredicted(xid)−freal(xid)|.\n",
        "\n"
      ]
    },
    {
      "cell_type": "code",
      "metadata": {
        "id": "UFp1oBdHJoMj"
      },
      "source": [
        "import pandas as pd\n",
        "from google.colab import files\n",
        "from tensorflow.keras import utils\n",
        "import numpy as np\n",
        "from tensorflow.keras.preprocessing.sequence import pad_sequences\n",
        "from sklearn.preprocessing import StandardScaler\n",
        "import matplotlib.pyplot as plt\n",
        "%matplotlib inline\n",
        "\n",
        "from keras.optimizers import Adam\n",
        "from keras.models import Sequential, Model\n",
        "from keras.layers import concatenate, Input, Dense, Dropout, BatchNormalization, Flatten, Conv1D, Conv2D"
      ],
      "execution_count": 1,
      "outputs": []
    },
    {
      "cell_type": "code",
      "metadata": {
        "colab": {
          "base_uri": "https://localhost:8080/"
        },
        "id": "v_nwDLPMHz4y",
        "outputId": "f8933687-8189-4083-a195-05bf3853cf6c"
      },
      "source": [
        "from google.colab import drive\n",
        "drive.mount('/content/drive')"
      ],
      "execution_count": 2,
      "outputs": [
        {
          "output_type": "stream",
          "text": [
            "Mounted at /content/drive\n"
          ],
          "name": "stdout"
        }
      ]
    },
    {
      "cell_type": "markdown",
      "metadata": {
        "id": "C0oI9UBzKYoz"
      },
      "source": [
        "##Загружаем данные"
      ]
    },
    {
      "cell_type": "code",
      "metadata": {
        "colab": {
          "base_uri": "https://localhost:8080/",
          "height": 399
        },
        "id": "1KL9BXoAJjQE",
        "outputId": "02830592-9a26-497b-9b3b-b8979993e75b"
      },
      "source": [
        "data_train = pd.read_csv('/content/drive/My Drive/ИИ_2021/train.csv')\n",
        "data_train"
      ],
      "execution_count": 3,
      "outputs": [
        {
          "output_type": "execute_result",
          "data": {
            "text/html": [
              "<div>\n",
              "<style scoped>\n",
              "    .dataframe tbody tr th:only-of-type {\n",
              "        vertical-align: middle;\n",
              "    }\n",
              "\n",
              "    .dataframe tbody tr th {\n",
              "        vertical-align: top;\n",
              "    }\n",
              "\n",
              "    .dataframe thead th {\n",
              "        text-align: right;\n",
              "    }\n",
              "</style>\n",
              "<table border=\"1\" class=\"dataframe\">\n",
              "  <thead>\n",
              "    <tr style=\"text-align: right;\">\n",
              "      <th></th>\n",
              "      <th>id</th>\n",
              "      <th>x1</th>\n",
              "      <th>x2</th>\n",
              "      <th>x3</th>\n",
              "      <th>x4</th>\n",
              "      <th>x5</th>\n",
              "      <th>y</th>\n",
              "    </tr>\n",
              "  </thead>\n",
              "  <tbody>\n",
              "    <tr>\n",
              "      <th>0</th>\n",
              "      <td>0</td>\n",
              "      <td>1</td>\n",
              "      <td>9</td>\n",
              "      <td>8</td>\n",
              "      <td>2</td>\n",
              "      <td>6</td>\n",
              "      <td>332.773904</td>\n",
              "    </tr>\n",
              "    <tr>\n",
              "      <th>1</th>\n",
              "      <td>1</td>\n",
              "      <td>0</td>\n",
              "      <td>8</td>\n",
              "      <td>0</td>\n",
              "      <td>2</td>\n",
              "      <td>7</td>\n",
              "      <td>298.091343</td>\n",
              "    </tr>\n",
              "    <tr>\n",
              "      <th>2</th>\n",
              "      <td>2</td>\n",
              "      <td>9</td>\n",
              "      <td>1</td>\n",
              "      <td>1</td>\n",
              "      <td>4</td>\n",
              "      <td>2</td>\n",
              "      <td>761.100225</td>\n",
              "    </tr>\n",
              "    <tr>\n",
              "      <th>3</th>\n",
              "      <td>3</td>\n",
              "      <td>7</td>\n",
              "      <td>9</td>\n",
              "      <td>2</td>\n",
              "      <td>8</td>\n",
              "      <td>6</td>\n",
              "      <td>686.106507</td>\n",
              "    </tr>\n",
              "    <tr>\n",
              "      <th>4</th>\n",
              "      <td>4</td>\n",
              "      <td>2</td>\n",
              "      <td>0</td>\n",
              "      <td>0</td>\n",
              "      <td>1</td>\n",
              "      <td>0</td>\n",
              "      <td>13.357220</td>\n",
              "    </tr>\n",
              "    <tr>\n",
              "      <th>...</th>\n",
              "      <td>...</td>\n",
              "      <td>...</td>\n",
              "      <td>...</td>\n",
              "      <td>...</td>\n",
              "      <td>...</td>\n",
              "      <td>...</td>\n",
              "      <td>...</td>\n",
              "    </tr>\n",
              "    <tr>\n",
              "      <th>79995</th>\n",
              "      <td>79995</td>\n",
              "      <td>6</td>\n",
              "      <td>4</td>\n",
              "      <td>1</td>\n",
              "      <td>1</td>\n",
              "      <td>4</td>\n",
              "      <td>304.940199</td>\n",
              "    </tr>\n",
              "    <tr>\n",
              "      <th>79996</th>\n",
              "      <td>79996</td>\n",
              "      <td>7</td>\n",
              "      <td>8</td>\n",
              "      <td>9</td>\n",
              "      <td>1</td>\n",
              "      <td>4</td>\n",
              "      <td>567.954361</td>\n",
              "    </tr>\n",
              "    <tr>\n",
              "      <th>79997</th>\n",
              "      <td>79997</td>\n",
              "      <td>6</td>\n",
              "      <td>5</td>\n",
              "      <td>0</td>\n",
              "      <td>8</td>\n",
              "      <td>1</td>\n",
              "      <td>301.367582</td>\n",
              "    </tr>\n",
              "    <tr>\n",
              "      <th>79998</th>\n",
              "      <td>79998</td>\n",
              "      <td>4</td>\n",
              "      <td>8</td>\n",
              "      <td>0</td>\n",
              "      <td>7</td>\n",
              "      <td>2</td>\n",
              "      <td>227.354170</td>\n",
              "    </tr>\n",
              "    <tr>\n",
              "      <th>79999</th>\n",
              "      <td>79999</td>\n",
              "      <td>0</td>\n",
              "      <td>8</td>\n",
              "      <td>3</td>\n",
              "      <td>9</td>\n",
              "      <td>6</td>\n",
              "      <td>310.713898</td>\n",
              "    </tr>\n",
              "  </tbody>\n",
              "</table>\n",
              "<p>80000 rows × 7 columns</p>\n",
              "</div>"
            ],
            "text/plain": [
              "          id  x1  x2  x3  x4  x5           y\n",
              "0          0   1   9   8   2   6  332.773904\n",
              "1          1   0   8   0   2   7  298.091343\n",
              "2          2   9   1   1   4   2  761.100225\n",
              "3          3   7   9   2   8   6  686.106507\n",
              "4          4   2   0   0   1   0   13.357220\n",
              "...      ...  ..  ..  ..  ..  ..         ...\n",
              "79995  79995   6   4   1   1   4  304.940199\n",
              "79996  79996   7   8   9   1   4  567.954361\n",
              "79997  79997   6   5   0   8   1  301.367582\n",
              "79998  79998   4   8   0   7   2  227.354170\n",
              "79999  79999   0   8   3   9   6  310.713898\n",
              "\n",
              "[80000 rows x 7 columns]"
            ]
          },
          "metadata": {
            "tags": []
          },
          "execution_count": 3
        }
      ]
    },
    {
      "cell_type": "code",
      "metadata": {
        "colab": {
          "base_uri": "https://localhost:8080/"
        },
        "id": "qjIhabu6K6Su",
        "outputId": "552e1a13-1767-479f-87b7-2434d3a64628"
      },
      "source": [
        "print(max(data_train.x1))\n",
        "print(max(data_train.x2))\n",
        "print(max(data_train.x3))\n",
        "print(max(data_train.x4))\n",
        "print(max(data_train.x5))"
      ],
      "execution_count": 4,
      "outputs": [
        {
          "output_type": "stream",
          "text": [
            "9\n",
            "9\n",
            "9\n",
            "9\n",
            "9\n"
          ],
          "name": "stdout"
        }
      ]
    },
    {
      "cell_type": "markdown",
      "metadata": {
        "id": "CUbsvPKrLSic"
      },
      "source": [
        "максимальное значение 9, минимальное 0\n",
        "to_categorical (1 на месте значения цифры)\n",
        "\n",
        "0 - 1 0 0 0 0 0 0 0 0 0 \n",
        "\n",
        "1 - 0 1 0 0 0 0 0 0 0 0 \n",
        "\n",
        "2 - 0 0 1 0 0 0 0 0 0 0 \n",
        "\n",
        "3 - 0 0 0 1 0 0 0 0 0 0 \n",
        "\n",
        "4 - 0 0 0 0 1 0 0 0 0 0 \n",
        "\n",
        "5 - 0 0 0 0 0 1 0 0 0 0\n",
        "\n",
        "6 - 0 0 0 0 0 0 1 0 0 0 \n",
        "\n",
        "7 - 0 0 0 0 0 0 0 1 0 0 \n",
        "\n",
        "8 - 0 0 0 0 0 0 0 0 1 0\n",
        "\n",
        "9 - 0 0 0 0 0 0 0 0 0 1 \n",
        "\n",
        "y - standart_scale (нормализовать по стандартному распределению)\n",
        "\n",
        "y - minmax_scale (нормализовать по максимальному значению)"
      ]
    },
    {
      "cell_type": "code",
      "metadata": {
        "colab": {
          "base_uri": "https://localhost:8080/",
          "height": 399
        },
        "id": "ejKoiKawJ4EO",
        "outputId": "af49dec2-21e2-42ec-a41f-2a23eb8e96ed"
      },
      "source": [
        "data_test = pd.read_csv('/content/drive/My Drive/ИИ_2021/test.csv')\n",
        "data_test"
      ],
      "execution_count": 5,
      "outputs": [
        {
          "output_type": "execute_result",
          "data": {
            "text/html": [
              "<div>\n",
              "<style scoped>\n",
              "    .dataframe tbody tr th:only-of-type {\n",
              "        vertical-align: middle;\n",
              "    }\n",
              "\n",
              "    .dataframe tbody tr th {\n",
              "        vertical-align: top;\n",
              "    }\n",
              "\n",
              "    .dataframe thead th {\n",
              "        text-align: right;\n",
              "    }\n",
              "</style>\n",
              "<table border=\"1\" class=\"dataframe\">\n",
              "  <thead>\n",
              "    <tr style=\"text-align: right;\">\n",
              "      <th></th>\n",
              "      <th>id</th>\n",
              "      <th>x1</th>\n",
              "      <th>x2</th>\n",
              "      <th>x3</th>\n",
              "      <th>x4</th>\n",
              "      <th>x5</th>\n",
              "    </tr>\n",
              "  </thead>\n",
              "  <tbody>\n",
              "    <tr>\n",
              "      <th>0</th>\n",
              "      <td>0</td>\n",
              "      <td>3</td>\n",
              "      <td>4</td>\n",
              "      <td>0</td>\n",
              "      <td>0</td>\n",
              "      <td>0</td>\n",
              "    </tr>\n",
              "    <tr>\n",
              "      <th>1</th>\n",
              "      <td>1</td>\n",
              "      <td>8</td>\n",
              "      <td>2</td>\n",
              "      <td>9</td>\n",
              "      <td>6</td>\n",
              "      <td>4</td>\n",
              "    </tr>\n",
              "    <tr>\n",
              "      <th>2</th>\n",
              "      <td>2</td>\n",
              "      <td>3</td>\n",
              "      <td>1</td>\n",
              "      <td>7</td>\n",
              "      <td>5</td>\n",
              "      <td>4</td>\n",
              "    </tr>\n",
              "    <tr>\n",
              "      <th>3</th>\n",
              "      <td>3</td>\n",
              "      <td>0</td>\n",
              "      <td>6</td>\n",
              "      <td>8</td>\n",
              "      <td>2</td>\n",
              "      <td>3</td>\n",
              "    </tr>\n",
              "    <tr>\n",
              "      <th>4</th>\n",
              "      <td>4</td>\n",
              "      <td>3</td>\n",
              "      <td>0</td>\n",
              "      <td>5</td>\n",
              "      <td>0</td>\n",
              "      <td>7</td>\n",
              "    </tr>\n",
              "    <tr>\n",
              "      <th>...</th>\n",
              "      <td>...</td>\n",
              "      <td>...</td>\n",
              "      <td>...</td>\n",
              "      <td>...</td>\n",
              "      <td>...</td>\n",
              "      <td>...</td>\n",
              "    </tr>\n",
              "    <tr>\n",
              "      <th>19995</th>\n",
              "      <td>19995</td>\n",
              "      <td>2</td>\n",
              "      <td>6</td>\n",
              "      <td>2</td>\n",
              "      <td>8</td>\n",
              "      <td>0</td>\n",
              "    </tr>\n",
              "    <tr>\n",
              "      <th>19996</th>\n",
              "      <td>19996</td>\n",
              "      <td>0</td>\n",
              "      <td>0</td>\n",
              "      <td>4</td>\n",
              "      <td>1</td>\n",
              "      <td>2</td>\n",
              "    </tr>\n",
              "    <tr>\n",
              "      <th>19997</th>\n",
              "      <td>19997</td>\n",
              "      <td>3</td>\n",
              "      <td>2</td>\n",
              "      <td>6</td>\n",
              "      <td>3</td>\n",
              "      <td>3</td>\n",
              "    </tr>\n",
              "    <tr>\n",
              "      <th>19998</th>\n",
              "      <td>19998</td>\n",
              "      <td>1</td>\n",
              "      <td>5</td>\n",
              "      <td>1</td>\n",
              "      <td>2</td>\n",
              "      <td>8</td>\n",
              "    </tr>\n",
              "    <tr>\n",
              "      <th>19999</th>\n",
              "      <td>19999</td>\n",
              "      <td>7</td>\n",
              "      <td>3</td>\n",
              "      <td>4</td>\n",
              "      <td>8</td>\n",
              "      <td>8</td>\n",
              "    </tr>\n",
              "  </tbody>\n",
              "</table>\n",
              "<p>20000 rows × 6 columns</p>\n",
              "</div>"
            ],
            "text/plain": [
              "          id  x1  x2  x3  x4  x5\n",
              "0          0   3   4   0   0   0\n",
              "1          1   8   2   9   6   4\n",
              "2          2   3   1   7   5   4\n",
              "3          3   0   6   8   2   3\n",
              "4          4   3   0   5   0   7\n",
              "...      ...  ..  ..  ..  ..  ..\n",
              "19995  19995   2   6   2   8   0\n",
              "19996  19996   0   0   4   1   2\n",
              "19997  19997   3   2   6   3   3\n",
              "19998  19998   1   5   1   2   8\n",
              "19999  19999   7   3   4   8   8\n",
              "\n",
              "[20000 rows x 6 columns]"
            ]
          },
          "metadata": {
            "tags": []
          },
          "execution_count": 5
        }
      ]
    },
    {
      "cell_type": "code",
      "metadata": {
        "colab": {
          "base_uri": "https://localhost:8080/",
          "height": 399
        },
        "id": "7jqKxtR3J8Iy",
        "outputId": "8a4567fb-29a2-4e7d-945b-67a717affe3e"
      },
      "source": [
        "submission =  pd.read_csv('/content/drive/My Drive/ИИ_2021/submission.csv')\n",
        "submission"
      ],
      "execution_count": 6,
      "outputs": [
        {
          "output_type": "execute_result",
          "data": {
            "text/html": [
              "<div>\n",
              "<style scoped>\n",
              "    .dataframe tbody tr th:only-of-type {\n",
              "        vertical-align: middle;\n",
              "    }\n",
              "\n",
              "    .dataframe tbody tr th {\n",
              "        vertical-align: top;\n",
              "    }\n",
              "\n",
              "    .dataframe thead th {\n",
              "        text-align: right;\n",
              "    }\n",
              "</style>\n",
              "<table border=\"1\" class=\"dataframe\">\n",
              "  <thead>\n",
              "    <tr style=\"text-align: right;\">\n",
              "      <th></th>\n",
              "      <th>id</th>\n",
              "      <th>y</th>\n",
              "    </tr>\n",
              "  </thead>\n",
              "  <tbody>\n",
              "    <tr>\n",
              "      <th>0</th>\n",
              "      <td>0</td>\n",
              "      <td>0</td>\n",
              "    </tr>\n",
              "    <tr>\n",
              "      <th>1</th>\n",
              "      <td>1</td>\n",
              "      <td>0</td>\n",
              "    </tr>\n",
              "    <tr>\n",
              "      <th>2</th>\n",
              "      <td>2</td>\n",
              "      <td>0</td>\n",
              "    </tr>\n",
              "    <tr>\n",
              "      <th>3</th>\n",
              "      <td>3</td>\n",
              "      <td>0</td>\n",
              "    </tr>\n",
              "    <tr>\n",
              "      <th>4</th>\n",
              "      <td>4</td>\n",
              "      <td>0</td>\n",
              "    </tr>\n",
              "    <tr>\n",
              "      <th>...</th>\n",
              "      <td>...</td>\n",
              "      <td>...</td>\n",
              "    </tr>\n",
              "    <tr>\n",
              "      <th>19995</th>\n",
              "      <td>19995</td>\n",
              "      <td>0</td>\n",
              "    </tr>\n",
              "    <tr>\n",
              "      <th>19996</th>\n",
              "      <td>19996</td>\n",
              "      <td>0</td>\n",
              "    </tr>\n",
              "    <tr>\n",
              "      <th>19997</th>\n",
              "      <td>19997</td>\n",
              "      <td>0</td>\n",
              "    </tr>\n",
              "    <tr>\n",
              "      <th>19998</th>\n",
              "      <td>19998</td>\n",
              "      <td>0</td>\n",
              "    </tr>\n",
              "    <tr>\n",
              "      <th>19999</th>\n",
              "      <td>19999</td>\n",
              "      <td>0</td>\n",
              "    </tr>\n",
              "  </tbody>\n",
              "</table>\n",
              "<p>20000 rows × 2 columns</p>\n",
              "</div>"
            ],
            "text/plain": [
              "          id  y\n",
              "0          0  0\n",
              "1          1  0\n",
              "2          2  0\n",
              "3          3  0\n",
              "4          4  0\n",
              "...      ... ..\n",
              "19995  19995  0\n",
              "19996  19996  0\n",
              "19997  19997  0\n",
              "19998  19998  0\n",
              "19999  19999  0\n",
              "\n",
              "[20000 rows x 2 columns]"
            ]
          },
          "metadata": {
            "tags": []
          },
          "execution_count": 6
        }
      ]
    },
    {
      "cell_type": "markdown",
      "metadata": {
        "id": "tbqDP5yIKyK2"
      },
      "source": [
        "##Нормализация данных"
      ]
    },
    {
      "cell_type": "code",
      "metadata": {
        "id": "codGhwHBQmjc"
      },
      "source": [
        "x_train = data_train.values #вытаскиваем данные в массив numpy array\n",
        "x_train = x_train[:,1:6] #возьмем только значения х1-х5"
      ],
      "execution_count": 7,
      "outputs": []
    },
    {
      "cell_type": "code",
      "metadata": {
        "colab": {
          "base_uri": "https://localhost:8080/"
        },
        "id": "fuOsMm7wSOJc",
        "outputId": "036272e8-687e-4dd6-9807-b0eb1a375f93"
      },
      "source": [
        "x_train = utils.to_categorical(x_train,10) #раскатегорируем данные\n",
        "x_train.shape #размерность полученных данных - каждой цифре теперь 10 значений"
      ],
      "execution_count": 8,
      "outputs": [
        {
          "output_type": "execute_result",
          "data": {
            "text/plain": [
              "(80000, 5, 10)"
            ]
          },
          "metadata": {
            "tags": []
          },
          "execution_count": 8
        }
      ]
    },
    {
      "cell_type": "code",
      "metadata": {
        "colab": {
          "base_uri": "https://localhost:8080/"
        },
        "id": "IdaXqI_DTXCg",
        "outputId": "ee8e7dbc-04ff-497c-914a-785ec1eead1f"
      },
      "source": [
        "print(x_train[0]) #нулевой элемент"
      ],
      "execution_count": 9,
      "outputs": [
        {
          "output_type": "stream",
          "text": [
            "[[0. 1. 0. 0. 0. 0. 0. 0. 0. 0.]\n",
            " [0. 0. 0. 0. 0. 0. 0. 0. 0. 1.]\n",
            " [0. 0. 0. 0. 0. 0. 0. 0. 1. 0.]\n",
            " [0. 0. 1. 0. 0. 0. 0. 0. 0. 0.]\n",
            " [0. 0. 0. 0. 0. 0. 1. 0. 0. 0.]]\n"
          ],
          "name": "stdout"
        }
      ]
    },
    {
      "cell_type": "code",
      "metadata": {
        "id": "tN40RcjqP73v"
      },
      "source": [
        "y_train = data_train.y #вытаскиваем игрики"
      ],
      "execution_count": 10,
      "outputs": []
    },
    {
      "cell_type": "code",
      "metadata": {
        "id": "PJCqu_WXMZYg"
      },
      "source": [
        "# Приводим значения в диапазон от 0 до 1\n",
        "min_y = y_train.min()\n",
        "max_y = y_train.max()"
      ],
      "execution_count": 11,
      "outputs": []
    },
    {
      "cell_type": "code",
      "metadata": {
        "colab": {
          "base_uri": "https://localhost:8080/"
        },
        "id": "Si2BS5TEMitc",
        "outputId": "aea89057-50a1-46e7-e84c-1c840ef84553"
      },
      "source": [
        "y_train = (y_train - min_y) / (max_y - min_y) #отклонение от минимума к амплитуде\n",
        "y_train"
      ],
      "execution_count": 12,
      "outputs": [
        {
          "output_type": "execute_result",
          "data": {
            "text/plain": [
              "0        0.275670\n",
              "1        0.246927\n",
              "2        0.630634\n",
              "3        0.568485\n",
              "4        0.010962\n",
              "           ...   \n",
              "79995    0.252603\n",
              "79996    0.470569\n",
              "79997    0.249643\n",
              "79998    0.188306\n",
              "79999    0.257388\n",
              "Name: y, Length: 80000, dtype: float64"
            ]
          },
          "metadata": {
            "tags": []
          },
          "execution_count": 12
        }
      ]
    },
    {
      "cell_type": "code",
      "metadata": {
        "colab": {
          "base_uri": "https://localhost:8080/"
        },
        "id": "RvkWcezPUIHX",
        "outputId": "79cc17b5-cf0e-4953-eea0-8ad42d9f0a5d"
      },
      "source": [
        "print(x_train[0]) #в формате one_hot_encoding\n",
        "print(data_train.values[0,1:6]) #цифры которые им соответствуют\n",
        "print(y_train[0]) #соответствующие игрики"
      ],
      "execution_count": 13,
      "outputs": [
        {
          "output_type": "stream",
          "text": [
            "[[0. 1. 0. 0. 0. 0. 0. 0. 0. 0.]\n",
            " [0. 0. 0. 0. 0. 0. 0. 0. 0. 1.]\n",
            " [0. 0. 0. 0. 0. 0. 0. 0. 1. 0.]\n",
            " [0. 0. 1. 0. 0. 0. 0. 0. 0. 0.]\n",
            " [0. 0. 0. 0. 0. 0. 1. 0. 0. 0.]]\n",
            "[1. 9. 8. 2. 6.]\n",
            "0.2756697404194845\n"
          ],
          "name": "stdout"
        }
      ]
    },
    {
      "cell_type": "code",
      "metadata": {
        "id": "hJP0LbziWmyR"
      },
      "source": [
        "yTrain = data_train.values[:,6]"
      ],
      "execution_count": 14,
      "outputs": []
    },
    {
      "cell_type": "code",
      "metadata": {
        "colab": {
          "base_uri": "https://localhost:8080/"
        },
        "id": "u733i6IkWgPw",
        "outputId": "acc9f6f6-f605-4bc1-e3a8-d3b07f5ea9c0"
      },
      "source": [
        "#Нормируем выход сети \n",
        "yScaler = StandardScaler() #Делаем нормальный нормировщик\n",
        "yScaler.fit(yTrain.reshape(-1, 1)) #Обучаем на y_train\n",
        "yTrainScaled = yScaler.transform(yTrain.reshape(-1, 1)) #Нормируем y_train\n",
        "\n",
        "#Выводим размер и два примера для сравнения\n",
        "#Не нормированных данных и нормированных\n",
        "print(yTrainScaled.shape)\n",
        "print(yTrain[0])\n",
        "print(yTrainScaled[0])"
      ],
      "execution_count": 16,
      "outputs": [
        {
          "output_type": "stream",
          "text": [
            "(80000, 1)\n",
            "332.7739038938621\n",
            "[-0.06158646]\n"
          ],
          "name": "stdout"
        }
      ]
    },
    {
      "cell_type": "markdown",
      "metadata": {
        "id": "mARqp5z5UmEs"
      },
      "source": [
        "##Создадим соответствующие функции для обработки"
      ]
    },
    {
      "cell_type": "code",
      "metadata": {
        "id": "fnVg15b9Uped"
      },
      "source": [
        "def x_categorical(x_data):\n",
        "  x = x_data.values\n",
        "  x = x[:,1:6]\n",
        "  x = utils.to_categorical(x,10)\n",
        "  return x\n",
        "def y_norm_min(y_data):\n",
        "  y = y_data.values[:,6]\n",
        "  min_y = y.min()\n",
        "  max_y = y.max()\n",
        "  y = (y - min_y) / (max_y - min_y) #отклонение от минимума к амплитуде\n",
        "  y = y.reshape((y.shape[0],1))\n",
        "  return y"
      ],
      "execution_count": 17,
      "outputs": []
    },
    {
      "cell_type": "code",
      "metadata": {
        "colab": {
          "base_uri": "https://localhost:8080/"
        },
        "id": "wxyDougSVlB5",
        "outputId": "8c4fb426-1db0-4499-806b-f436719f2099"
      },
      "source": [
        "x_train = x_categorical(data_train)\n",
        "x_test = x_categorical(data_test)\n",
        "y_train = y_norm_min(data_train)\n",
        "print(x_train.shape)\n",
        "print(x_test.shape)\n",
        "print(y_train.shape)"
      ],
      "execution_count": 18,
      "outputs": [
        {
          "output_type": "stream",
          "text": [
            "(80000, 5, 10)\n",
            "(20000, 5, 10)\n",
            "(80000, 1)\n"
          ],
          "name": "stdout"
        }
      ]
    },
    {
      "cell_type": "code",
      "metadata": {
        "id": "NwOBz4_nYYAl"
      },
      "source": [
        "xTrain = x_train.reshape(x_train.shape[0],50)"
      ],
      "execution_count": 19,
      "outputs": []
    },
    {
      "cell_type": "code",
      "metadata": {
        "id": "DXwvhC7N4TLH"
      },
      "source": [
        "xTest = x_test.reshape(x_test.shape[0],50)"
      ],
      "execution_count": 63,
      "outputs": []
    },
    {
      "cell_type": "markdown",
      "metadata": {
        "id": "Kco1KKf-WPAC"
      },
      "source": [
        "Формируем проверочную выборку"
      ]
    },
    {
      "cell_type": "code",
      "metadata": {
        "id": "nMs7QlwHWDet"
      },
      "source": [
        "splitVal = 0.2 #Процент, который выделяем в проверочную выборку\n",
        "valMask = np.random.sample(xTrain.shape[0]) < splitVal #Создаём маску True-False для создания проверочной выборки"
      ],
      "execution_count": 24,
      "outputs": []
    },
    {
      "cell_type": "markdown",
      "metadata": {
        "id": "PTcgw6TAfqRA"
      },
      "source": [
        "#Нейронка - метрика MAE"
      ]
    },
    {
      "cell_type": "code",
      "metadata": {
        "colab": {
          "base_uri": "https://localhost:8080/",
          "height": 1000
        },
        "id": "iPUqGb-izimj",
        "outputId": "36bf3736-d2ac-44a0-ce96-048c2eadbbab"
      },
      "source": [
        "from keras.callbacks import LambdaCallback\n",
        "from IPython.display import clear_output\n",
        "\n",
        "def on_epoch_end(epoch, logs):\n",
        "  pred = model5.predict(xTrain[valMask]) #Полуаем выход сети на проверочно выборке\n",
        "  predUnscaled = yScaler.inverse_transform(pred).flatten() #Делаем обратное нормирование выхода к изначальным величинам цен квартир\n",
        "  yTrainUnscaled = yScaler.inverse_transform(yTrainScaled[valMask]).flatten() #Делаем такое же обратное нормирование yTrain к базовым ценам\n",
        "  delta = predUnscaled - yTrainUnscaled #Считаем разность предсказания и правильных цен\n",
        "  absDelta = abs(delta) #Берём модуль отклонения\n",
        "  print(\"Эпоха\", epoch, \"модуль ошибки\", round(sum(absDelta),3))\n",
        "\n",
        "# Коллбэки\n",
        "pltMae = LambdaCallback(on_epoch_end=on_epoch_end)\n",
        "\n",
        "#Простая Dense сеть\n",
        "input = Input((xTrain.shape[1],))\n",
        "\n",
        "x = Dense(712, activation=\"relu\")(input)\n",
        "x = Dense(128, activation=\"relu\")(x)\n",
        "x = Dense(16, activation='relu')(x)\n",
        "x = Dense(1, activation='linear')(x)\n",
        "\n",
        "model5 = Model(input, x)\n",
        "\n",
        "model5.compile(optimizer=Adam(lr=1e-3), loss='mae')\n",
        "history = model5.fit(xTrain[~valMask], \n",
        "                    yTrainScaled[~valMask], \n",
        "                    epochs=40, \n",
        "                    validation_data=(xTrain[valMask], \n",
        "                    yTrainScaled[valMask]), \n",
        "                    verbose=0,\n",
        "                    callbacks=[pltMae])\n",
        "\n",
        "print()\n",
        "print('Меняем шаг обучения на 1e-4')\n",
        "model5.compile(optimizer=Adam(lr=1e-4), loss='mae')\n",
        "history = model5.fit(xTrain[~valMask], \n",
        "                    yTrainScaled[~valMask], \n",
        "                    epochs=40, \n",
        "                    validation_data=(xTrain[valMask], \n",
        "                    yTrainScaled[valMask]), \n",
        "                    verbose=0,\n",
        "                    callbacks=[pltMae])\n",
        "\n",
        "print()\n",
        "print('Меняем шаг обучения на 1e-5')\n",
        "model5.compile(optimizer=Adam(lr=1e-5), loss='mae')\n",
        "history = model5.fit(xTrain[~valMask], \n",
        "                    yTrainScaled[~valMask], \n",
        "                    epochs=10, \n",
        "                    validation_data=(xTrain[valMask], \n",
        "                    yTrainScaled[valMask]), \n",
        "                    verbose=0,\n",
        "                    callbacks=[pltMae])\n",
        "\n",
        "print()\n",
        "print('Меняем шаг обучения на 1e-6')\n",
        "model5.compile(optimizer=Adam(lr=1e-6), loss='mae')\n",
        "history = model5.fit(xTrain[~valMask], \n",
        "                    yTrainScaled[~valMask], \n",
        "                    epochs=10, \n",
        "                    validation_data=(xTrain[valMask], \n",
        "                    yTrainScaled[valMask]), \n",
        "                    verbose=0,\n",
        "                    callbacks=[pltMae])\n",
        "\n",
        "\n",
        "#Проверяем результаты\n",
        "pred = model5.predict(xTrain) #Полуаем выход сети на проверочно выборке\n",
        "predUnscaled = yScaler.inverse_transform(pred).flatten() #Делаем обратное нормирование выхода к изначальным величинам цен квартир\n",
        "yTrainUnscaled = yScaler.inverse_transform(yTrainScaled).flatten() #Делаем такое же обратное нормирование yTrain к базовым ценам\n",
        "delta = predUnscaled - yTrainUnscaled #Считаем разность предсказания и правильных цен\n",
        "absDelta = abs(delta) #Берём модуль отклонения\n",
        "print(\"Модуль ошибки\", sum(absDelta)) \n",
        "\n",
        "#ВЫводим графики ошибки\n",
        "plt.plot(history.history['loss'], \n",
        "         label='Абсолютная ошибка на обучающем наборе')\n",
        "plt.plot(history.history['val_loss'], \n",
        "         label='Абсолютная ошибка на проверочном наборе')\n",
        "plt.xlabel('Эпоха обучения')\n",
        "plt.ylabel('Абсолютная ошибка')\n",
        "plt.legend()\n",
        "plt.show()"
      ],
      "execution_count": 61,
      "outputs": [
        {
          "output_type": "stream",
          "text": [
            "Эпоха 0 модуль ошибки 110095.675\n",
            "Эпоха 1 модуль ошибки 82550.877\n",
            "Эпоха 2 модуль ошибки 49691.806\n",
            "Эпоха 3 модуль ошибки 70468.44\n",
            "Эпоха 4 модуль ошибки 41481.602\n",
            "Эпоха 5 модуль ошибки 55071.577\n",
            "Эпоха 6 модуль ошибки 35980.445\n",
            "Эпоха 7 модуль ошибки 46391.805\n",
            "Эпоха 8 модуль ошибки 36282.079\n",
            "Эпоха 9 модуль ошибки 32880.808\n",
            "Эпоха 10 модуль ошибки 25858.447\n",
            "Эпоха 11 модуль ошибки 27312.762\n",
            "Эпоха 12 модуль ошибки 29816.94\n",
            "Эпоха 13 модуль ошибки 23064.45\n",
            "Эпоха 14 модуль ошибки 34675.299\n",
            "Эпоха 15 модуль ошибки 24591.291\n",
            "Эпоха 16 модуль ошибки 29650.987\n",
            "Эпоха 17 модуль ошибки 19699.905\n",
            "Эпоха 18 модуль ошибки 31483.115\n",
            "Эпоха 19 модуль ошибки 38084.136\n",
            "Эпоха 20 модуль ошибки 19369.31\n",
            "Эпоха 21 модуль ошибки 21634.785\n",
            "Эпоха 22 модуль ошибки 21071.427\n",
            "Эпоха 23 модуль ошибки 26270.019\n",
            "Эпоха 24 модуль ошибки 38378.511\n",
            "Эпоха 25 модуль ошибки 19780.181\n",
            "Эпоха 26 модуль ошибки 21339.214\n",
            "Эпоха 27 модуль ошибки 21187.481\n",
            "Эпоха 28 модуль ошибки 22188.304\n",
            "Эпоха 29 модуль ошибки 17363.131\n",
            "Эпоха 30 модуль ошибки 40021.458\n",
            "Эпоха 31 модуль ошибки 14688.669\n",
            "Эпоха 32 модуль ошибки 20944.539\n",
            "Эпоха 33 модуль ошибки 18010.988\n",
            "Эпоха 34 модуль ошибки 25402.648\n",
            "Эпоха 35 модуль ошибки 15451.235\n",
            "Эпоха 36 модуль ошибки 19576.498\n",
            "Эпоха 37 модуль ошибки 22316.536\n",
            "Эпоха 38 модуль ошибки 20547.582\n",
            "Эпоха 39 модуль ошибки 18858.839\n",
            "\n",
            "Меняем шаг обучения на 1e-4\n",
            "Эпоха 0 модуль ошибки 5324.664\n",
            "Эпоха 1 модуль ошибки 5506.709\n",
            "Эпоха 2 модуль ошибки 5415.83\n",
            "Эпоха 3 модуль ошибки 5274.395\n",
            "Эпоха 4 модуль ошибки 5463.83\n",
            "Эпоха 5 модуль ошибки 5192.124\n",
            "Эпоха 6 модуль ошибки 5226.788\n",
            "Эпоха 7 модуль ошибки 4838.95\n",
            "Эпоха 8 модуль ошибки 5006.195\n",
            "Эпоха 9 модуль ошибки 5322.947\n",
            "Эпоха 10 модуль ошибки 5187.055\n",
            "Эпоха 11 модуль ошибки 5307.675\n",
            "Эпоха 12 модуль ошибки 5016.627\n",
            "Эпоха 13 модуль ошибки 5403.809\n",
            "Эпоха 14 модуль ошибки 5579.284\n",
            "Эпоха 15 модуль ошибки 5395.465\n",
            "Эпоха 16 модуль ошибки 5649.642\n",
            "Эпоха 17 модуль ошибки 5353.272\n",
            "Эпоха 18 модуль ошибки 5203.274\n",
            "Эпоха 19 модуль ошибки 4737.715\n",
            "Эпоха 20 модуль ошибки 4906.911\n",
            "Эпоха 21 модуль ошибки 5994.52\n",
            "Эпоха 22 модуль ошибки 4940.968\n",
            "Эпоха 23 модуль ошибки 6176.112\n",
            "Эпоха 24 модуль ошибки 5267.882\n",
            "Эпоха 25 модуль ошибки 4796.441\n",
            "Эпоха 26 модуль ошибки 5793.979\n",
            "Эпоха 27 модуль ошибки 5935.519\n",
            "Эпоха 28 модуль ошибки 5965.053\n",
            "Эпоха 29 модуль ошибки 5153.524\n",
            "Эпоха 30 модуль ошибки 5411.916\n",
            "Эпоха 31 модуль ошибки 4998.237\n",
            "Эпоха 32 модуль ошибки 4995.804\n",
            "Эпоха 33 модуль ошибки 5380.952\n",
            "Эпоха 34 модуль ошибки 5896.003\n",
            "Эпоха 35 модуль ошибки 5222.372\n",
            "Эпоха 36 модуль ошибки 5334.364\n",
            "Эпоха 37 модуль ошибки 5223.805\n",
            "Эпоха 38 модуль ошибки 5751.481\n",
            "Эпоха 39 модуль ошибки 4977.778\n",
            "\n",
            "Меняем шаг обучения на 1e-5\n",
            "Эпоха 0 модуль ошибки 4320.606\n",
            "Эпоха 1 модуль ошибки 4480.668\n",
            "Эпоха 2 модуль ошибки 4354.834\n",
            "Эпоха 3 модуль ошибки 4305.644\n",
            "Эпоха 4 модуль ошибки 4452.707\n",
            "Эпоха 5 модуль ошибки 4328.727\n",
            "Эпоха 6 модуль ошибки 4327.615\n",
            "Эпоха 7 модуль ошибки 4334.858\n",
            "Эпоха 8 модуль ошибки 4325.989\n",
            "Эпоха 9 модуль ошибки 4281.556\n",
            "\n",
            "Меняем шаг обучения на 1e-6\n",
            "Эпоха 0 модуль ошибки 4248.513\n",
            "Эпоха 1 модуль ошибки 4248.15\n",
            "Эпоха 2 модуль ошибки 4246.544\n",
            "Эпоха 3 модуль ошибки 4254.329\n",
            "Эпоха 4 модуль ошибки 4243.607\n",
            "Эпоха 5 модуль ошибки 4238.571\n",
            "Эпоха 6 модуль ошибки 4247.71\n",
            "Эпоха 7 модуль ошибки 4250.595\n",
            "Эпоха 8 модуль ошибки 4249.41\n",
            "Эпоха 9 модуль ошибки 4240.385\n",
            "Модуль ошибки 19819.086353721872\n"
          ],
          "name": "stdout"
        },
        {
          "output_type": "display_data",
          "data": {
            "image/png": "[encoded data removed]",
            "text/plain": [
              "<Figure size 432x288 with 1 Axes>"
            ]
          },
          "metadata": {
            "tags": [],
            "needs_background": "light"
          }
        }
      ]
    },
    {
      "cell_type": "code",
      "metadata": {
        "colab": {
          "base_uri": "https://localhost:8080/"
        },
        "id": "ROuqIKqa4F7R",
        "outputId": "5e681f29-7d1a-4a24-e717-cac7c196c949"
      },
      "source": [
        "#Проверяем результаты\n",
        "pred = model5.predict(xTrain) #Полуаем выход сети на проверочно выборке\n",
        "predUnscaled = yScaler.inverse_transform(pred).flatten() #Делаем обратное нормирование выхода к изначальным величинам \n",
        "yTrainUnscaled = yScaler.inverse_transform(yTrainScaled).flatten() #Делаем такое же обратное нормирование yTrain \n",
        "delta = predUnscaled - yTrainUnscaled #Считаем разность предсказания и правильных \n",
        "absDelta = abs(delta) #Берём модуль отклонения\n",
        "print(\"Модуль ошибки\", sum(absDelta)) "
      ],
      "execution_count": 62,
      "outputs": [
        {
          "output_type": "stream",
          "text": [
            "Модуль ошибки 19819.086353721872\n"
          ],
          "name": "stdout"
        }
      ]
    },
    {
      "cell_type": "code",
      "metadata": {
        "id": "X_hcw4U_5MTW"
      },
      "source": [
        "model5.save_weights('model5.h5')"
      ],
      "execution_count": 69,
      "outputs": []
    },
    {
      "cell_type": "code",
      "metadata": {
        "id": "PFrbJlB04JCH"
      },
      "source": [
        "predTest = model5.predict(xTest)\n",
        "predUnscaledTest = yScaler.inverse_transform(predTest).flatten() #Делаем обратное нормирование выхода к изначальным величинам "
      ],
      "execution_count": 65,
      "outputs": []
    },
    {
      "cell_type": "code",
      "metadata": {
        "colab": {
          "base_uri": "https://localhost:8080/",
          "height": 399
        },
        "id": "TgbxGRvA4jjq",
        "outputId": "6576af65-d02b-4a2f-a457-b3a22f68b6bc"
      },
      "source": [
        "submission"
      ],
      "execution_count": 66,
      "outputs": [
        {
          "output_type": "execute_result",
          "data": {
            "text/html": [
              "<div>\n",
              "<style scoped>\n",
              "    .dataframe tbody tr th:only-of-type {\n",
              "        vertical-align: middle;\n",
              "    }\n",
              "\n",
              "    .dataframe tbody tr th {\n",
              "        vertical-align: top;\n",
              "    }\n",
              "\n",
              "    .dataframe thead th {\n",
              "        text-align: right;\n",
              "    }\n",
              "</style>\n",
              "<table border=\"1\" class=\"dataframe\">\n",
              "  <thead>\n",
              "    <tr style=\"text-align: right;\">\n",
              "      <th></th>\n",
              "      <th>id</th>\n",
              "      <th>y</th>\n",
              "    </tr>\n",
              "  </thead>\n",
              "  <tbody>\n",
              "    <tr>\n",
              "      <th>0</th>\n",
              "      <td>0</td>\n",
              "      <td>0</td>\n",
              "    </tr>\n",
              "    <tr>\n",
              "      <th>1</th>\n",
              "      <td>1</td>\n",
              "      <td>0</td>\n",
              "    </tr>\n",
              "    <tr>\n",
              "      <th>2</th>\n",
              "      <td>2</td>\n",
              "      <td>0</td>\n",
              "    </tr>\n",
              "    <tr>\n",
              "      <th>3</th>\n",
              "      <td>3</td>\n",
              "      <td>0</td>\n",
              "    </tr>\n",
              "    <tr>\n",
              "      <th>4</th>\n",
              "      <td>4</td>\n",
              "      <td>0</td>\n",
              "    </tr>\n",
              "    <tr>\n",
              "      <th>...</th>\n",
              "      <td>...</td>\n",
              "      <td>...</td>\n",
              "    </tr>\n",
              "    <tr>\n",
              "      <th>19995</th>\n",
              "      <td>19995</td>\n",
              "      <td>0</td>\n",
              "    </tr>\n",
              "    <tr>\n",
              "      <th>19996</th>\n",
              "      <td>19996</td>\n",
              "      <td>0</td>\n",
              "    </tr>\n",
              "    <tr>\n",
              "      <th>19997</th>\n",
              "      <td>19997</td>\n",
              "      <td>0</td>\n",
              "    </tr>\n",
              "    <tr>\n",
              "      <th>19998</th>\n",
              "      <td>19998</td>\n",
              "      <td>0</td>\n",
              "    </tr>\n",
              "    <tr>\n",
              "      <th>19999</th>\n",
              "      <td>19999</td>\n",
              "      <td>0</td>\n",
              "    </tr>\n",
              "  </tbody>\n",
              "</table>\n",
              "<p>20000 rows × 2 columns</p>\n",
              "</div>"
            ],
            "text/plain": [
              "          id  y\n",
              "0          0  0\n",
              "1          1  0\n",
              "2          2  0\n",
              "3          3  0\n",
              "4          4  0\n",
              "...      ... ..\n",
              "19995  19995  0\n",
              "19996  19996  0\n",
              "19997  19997  0\n",
              "19998  19998  0\n",
              "19999  19999  0\n",
              "\n",
              "[20000 rows x 2 columns]"
            ]
          },
          "metadata": {
            "tags": []
          },
          "execution_count": 66
        }
      ]
    },
    {
      "cell_type": "code",
      "metadata": {
        "colab": {
          "base_uri": "https://localhost:8080/"
        },
        "id": "7-JWe00s4m06",
        "outputId": "cc1e159a-5b53-434c-9c8f-f0682b945fb1"
      },
      "source": [
        "predUnscaledTest"
      ],
      "execution_count": 67,
      "outputs": [
        {
          "output_type": "execute_result",
          "data": {
            "text/plain": [
              "array([ 43.49099, 605.5679 ,  90.50579, ...,  88.43673, 199.53426,\n",
              "       500.5999 ], dtype=float32)"
            ]
          },
          "metadata": {
            "tags": []
          },
          "execution_count": 67
        }
      ]
    },
    {
      "cell_type": "code",
      "metadata": {
        "colab": {
          "base_uri": "https://localhost:8080/",
          "height": 399
        },
        "id": "5ALInwhQ4o-5",
        "outputId": "e824b4bf-bb96-4a95-adcd-6e698985ea53"
      },
      "source": [
        "submission.y = predUnscaledTest\n",
        "submission"
      ],
      "execution_count": 68,
      "outputs": [
        {
          "output_type": "execute_result",
          "data": {
            "text/html": [
              "<div>\n",
              "<style scoped>\n",
              "    .dataframe tbody tr th:only-of-type {\n",
              "        vertical-align: middle;\n",
              "    }\n",
              "\n",
              "    .dataframe tbody tr th {\n",
              "        vertical-align: top;\n",
              "    }\n",
              "\n",
              "    .dataframe thead th {\n",
              "        text-align: right;\n",
              "    }\n",
              "</style>\n",
              "<table border=\"1\" class=\"dataframe\">\n",
              "  <thead>\n",
              "    <tr style=\"text-align: right;\">\n",
              "      <th></th>\n",
              "      <th>id</th>\n",
              "      <th>y</th>\n",
              "    </tr>\n",
              "  </thead>\n",
              "  <tbody>\n",
              "    <tr>\n",
              "      <th>0</th>\n",
              "      <td>0</td>\n",
              "      <td>43.490990</td>\n",
              "    </tr>\n",
              "    <tr>\n",
              "      <th>1</th>\n",
              "      <td>1</td>\n",
              "      <td>605.567871</td>\n",
              "    </tr>\n",
              "    <tr>\n",
              "      <th>2</th>\n",
              "      <td>2</td>\n",
              "      <td>90.505791</td>\n",
              "    </tr>\n",
              "    <tr>\n",
              "      <th>3</th>\n",
              "      <td>3</td>\n",
              "      <td>142.504944</td>\n",
              "    </tr>\n",
              "    <tr>\n",
              "      <th>4</th>\n",
              "      <td>4</td>\n",
              "      <td>42.509575</td>\n",
              "    </tr>\n",
              "    <tr>\n",
              "      <th>...</th>\n",
              "      <td>...</td>\n",
              "      <td>...</td>\n",
              "    </tr>\n",
              "    <tr>\n",
              "      <th>19995</th>\n",
              "      <td>19995</td>\n",
              "      <td>90.597832</td>\n",
              "    </tr>\n",
              "    <tr>\n",
              "      <th>19996</th>\n",
              "      <td>19996</td>\n",
              "      <td>17.527216</td>\n",
              "    </tr>\n",
              "    <tr>\n",
              "      <th>19997</th>\n",
              "      <td>19997</td>\n",
              "      <td>88.436729</td>\n",
              "    </tr>\n",
              "    <tr>\n",
              "      <th>19998</th>\n",
              "      <td>19998</td>\n",
              "      <td>199.534256</td>\n",
              "    </tr>\n",
              "    <tr>\n",
              "      <th>19999</th>\n",
              "      <td>19999</td>\n",
              "      <td>500.599915</td>\n",
              "    </tr>\n",
              "  </tbody>\n",
              "</table>\n",
              "<p>20000 rows × 2 columns</p>\n",
              "</div>"
            ],
            "text/plain": [
              "          id           y\n",
              "0          0   43.490990\n",
              "1          1  605.567871\n",
              "2          2   90.505791\n",
              "3          3  142.504944\n",
              "4          4   42.509575\n",
              "...      ...         ...\n",
              "19995  19995   90.597832\n",
              "19996  19996   17.527216\n",
              "19997  19997   88.436729\n",
              "19998  19998  199.534256\n",
              "19999  19999  500.599915\n",
              "\n",
              "[20000 rows x 2 columns]"
            ]
          },
          "metadata": {
            "tags": []
          },
          "execution_count": 68
        }
      ]
    },
    {
      "cell_type": "code",
      "metadata": {
        "id": "v34b5bLY4t7T"
      },
      "source": [
        "submission.to_csv('submission.csv',index=0)"
      ],
      "execution_count": 70,
      "outputs": []
    },
    {
      "cell_type": "code",
      "metadata": {
        "colab": {
          "base_uri": "https://localhost:8080/",
          "height": 399
        },
        "id": "osxskbaD5n_u",
        "outputId": "5cae0a72-cdd3-447d-c05a-037c0c4ec9eb"
      },
      "source": [
        "s = pd.read_csv('submission.csv')\n",
        "s"
      ],
      "execution_count": 71,
      "outputs": [
        {
          "output_type": "execute_result",
          "data": {
            "text/html": [
              "<div>\n",
              "<style scoped>\n",
              "    .dataframe tbody tr th:only-of-type {\n",
              "        vertical-align: middle;\n",
              "    }\n",
              "\n",
              "    .dataframe tbody tr th {\n",
              "        vertical-align: top;\n",
              "    }\n",
              "\n",
              "    .dataframe thead th {\n",
              "        text-align: right;\n",
              "    }\n",
              "</style>\n",
              "<table border=\"1\" class=\"dataframe\">\n",
              "  <thead>\n",
              "    <tr style=\"text-align: right;\">\n",
              "      <th></th>\n",
              "      <th>id</th>\n",
              "      <th>y</th>\n",
              "    </tr>\n",
              "  </thead>\n",
              "  <tbody>\n",
              "    <tr>\n",
              "      <th>0</th>\n",
              "      <td>0</td>\n",
              "      <td>43.490990</td>\n",
              "    </tr>\n",
              "    <tr>\n",
              "      <th>1</th>\n",
              "      <td>1</td>\n",
              "      <td>605.567900</td>\n",
              "    </tr>\n",
              "    <tr>\n",
              "      <th>2</th>\n",
              "      <td>2</td>\n",
              "      <td>90.505790</td>\n",
              "    </tr>\n",
              "    <tr>\n",
              "      <th>3</th>\n",
              "      <td>3</td>\n",
              "      <td>142.504940</td>\n",
              "    </tr>\n",
              "    <tr>\n",
              "      <th>4</th>\n",
              "      <td>4</td>\n",
              "      <td>42.509575</td>\n",
              "    </tr>\n",
              "    <tr>\n",
              "      <th>...</th>\n",
              "      <td>...</td>\n",
              "      <td>...</td>\n",
              "    </tr>\n",
              "    <tr>\n",
              "      <th>19995</th>\n",
              "      <td>19995</td>\n",
              "      <td>90.597830</td>\n",
              "    </tr>\n",
              "    <tr>\n",
              "      <th>19996</th>\n",
              "      <td>19996</td>\n",
              "      <td>17.527216</td>\n",
              "    </tr>\n",
              "    <tr>\n",
              "      <th>19997</th>\n",
              "      <td>19997</td>\n",
              "      <td>88.436730</td>\n",
              "    </tr>\n",
              "    <tr>\n",
              "      <th>19998</th>\n",
              "      <td>19998</td>\n",
              "      <td>199.534260</td>\n",
              "    </tr>\n",
              "    <tr>\n",
              "      <th>19999</th>\n",
              "      <td>19999</td>\n",
              "      <td>500.599900</td>\n",
              "    </tr>\n",
              "  </tbody>\n",
              "</table>\n",
              "<p>20000 rows × 2 columns</p>\n",
              "</div>"
            ],
            "text/plain": [
              "          id           y\n",
              "0          0   43.490990\n",
              "1          1  605.567900\n",
              "2          2   90.505790\n",
              "3          3  142.504940\n",
              "4          4   42.509575\n",
              "...      ...         ...\n",
              "19995  19995   90.597830\n",
              "19996  19996   17.527216\n",
              "19997  19997   88.436730\n",
              "19998  19998  199.534260\n",
              "19999  19999  500.599900\n",
              "\n",
              "[20000 rows x 2 columns]"
            ]
          },
          "metadata": {
            "tags": []
          },
          "execution_count": 71
        }
      ]
    }
  ]
}